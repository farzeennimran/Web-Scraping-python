{
  "nbformat": 4,
  "nbformat_minor": 0,
  "metadata": {
    "colab": {
      "provenance": []
    },
    "kernelspec": {
      "name": "python3",
      "display_name": "Python 3"
    },
    "language_info": {
      "name": "python"
    }
  },
  "cells": [
    {
      "cell_type": "markdown",
      "source": [
        "# **Selenium**"
      ],
      "metadata": {
        "id": "y4-P2Rj80mVP"
      }
    },
    {
      "cell_type": "code",
      "execution_count": null,
      "metadata": {
        "colab": {
          "base_uri": "https://localhost:8080/"
        },
        "id": "2NpqYURbwtKR",
        "outputId": "f2df253c-65d1-43b1-ef51-581744cbc4f5"
      },
      "outputs": [
        {
          "output_type": "stream",
          "name": "stdout",
          "text": [
            "Collecting bs4\n",
            "  Downloading bs4-0.0.1.tar.gz (1.1 kB)\n",
            "  Preparing metadata (setup.py) ... \u001b[?25l\u001b[?25hdone\n",
            "Collecting selenium\n",
            "  Downloading selenium-4.12.0-py3-none-any.whl (9.4 MB)\n",
            "\u001b[2K     \u001b[90m━━━━━━━━━━━━━━━━━━━━━━━━━━━━━━━━━━━━━━━━\u001b[0m \u001b[32m9.4/9.4 MB\u001b[0m \u001b[31m22.1 MB/s\u001b[0m eta \u001b[36m0:00:00\u001b[0m\n",
            "\u001b[?25hRequirement already satisfied: beautifulsoup4 in /usr/local/lib/python3.10/dist-packages (from bs4) (4.11.2)\n",
            "Requirement already satisfied: urllib3[socks]<3,>=1.26 in /usr/local/lib/python3.10/dist-packages (from selenium) (2.0.4)\n",
            "Collecting trio~=0.17 (from selenium)\n",
            "  Downloading trio-0.22.2-py3-none-any.whl (400 kB)\n",
            "\u001b[2K     \u001b[90m━━━━━━━━━━━━━━━━━━━━━━━━━━━━━━━━━━━━━━\u001b[0m \u001b[32m400.2/400.2 kB\u001b[0m \u001b[31m33.9 MB/s\u001b[0m eta \u001b[36m0:00:00\u001b[0m\n",
            "\u001b[?25hCollecting trio-websocket~=0.9 (from selenium)\n",
            "  Downloading trio_websocket-0.10.4-py3-none-any.whl (17 kB)\n",
            "Requirement already satisfied: certifi>=2021.10.8 in /usr/local/lib/python3.10/dist-packages (from selenium) (2023.7.22)\n",
            "Requirement already satisfied: attrs>=20.1.0 in /usr/local/lib/python3.10/dist-packages (from trio~=0.17->selenium) (23.1.0)\n",
            "Requirement already satisfied: sortedcontainers in /usr/local/lib/python3.10/dist-packages (from trio~=0.17->selenium) (2.4.0)\n",
            "Requirement already satisfied: idna in /usr/local/lib/python3.10/dist-packages (from trio~=0.17->selenium) (3.4)\n",
            "Collecting outcome (from trio~=0.17->selenium)\n",
            "  Downloading outcome-1.2.0-py2.py3-none-any.whl (9.7 kB)\n",
            "Requirement already satisfied: sniffio in /usr/local/lib/python3.10/dist-packages (from trio~=0.17->selenium) (1.3.0)\n",
            "Requirement already satisfied: exceptiongroup>=1.0.0rc9 in /usr/local/lib/python3.10/dist-packages (from trio~=0.17->selenium) (1.1.3)\n",
            "Collecting wsproto>=0.14 (from trio-websocket~=0.9->selenium)\n",
            "  Downloading wsproto-1.2.0-py3-none-any.whl (24 kB)\n",
            "Requirement already satisfied: pysocks!=1.5.7,<2.0,>=1.5.6 in /usr/local/lib/python3.10/dist-packages (from urllib3[socks]<3,>=1.26->selenium) (1.7.1)\n",
            "Requirement already satisfied: soupsieve>1.2 in /usr/local/lib/python3.10/dist-packages (from beautifulsoup4->bs4) (2.5)\n",
            "Collecting h11<1,>=0.9.0 (from wsproto>=0.14->trio-websocket~=0.9->selenium)\n",
            "  Downloading h11-0.14.0-py3-none-any.whl (58 kB)\n",
            "\u001b[2K     \u001b[90m━━━━━━━━━━━━━━━━━━━━━━━━━━━━━━━━━━━━━━━━\u001b[0m \u001b[32m58.3/58.3 kB\u001b[0m \u001b[31m5.5 MB/s\u001b[0m eta \u001b[36m0:00:00\u001b[0m\n",
            "\u001b[?25hBuilding wheels for collected packages: bs4\n",
            "  Building wheel for bs4 (setup.py) ... \u001b[?25l\u001b[?25hdone\n",
            "  Created wheel for bs4: filename=bs4-0.0.1-py3-none-any.whl size=1256 sha256=87bb1ea1ae68cca8572f11d84bc5ed69646dbfeb3c6e467cfe5be2e9fd6e50d6\n",
            "  Stored in directory: /root/.cache/pip/wheels/25/42/45/b773edc52acb16cd2db4cf1a0b47117e2f69bb4eb300ed0e70\n",
            "Successfully built bs4\n",
            "Installing collected packages: outcome, h11, wsproto, trio, bs4, trio-websocket, selenium\n",
            "Successfully installed bs4-0.0.1 h11-0.14.0 outcome-1.2.0 selenium-4.12.0 trio-0.22.2 trio-websocket-0.10.4 wsproto-1.2.0\n",
            "Reading package lists... Done\n",
            "Building dependency tree... Done\n",
            "Reading state information... Done\n",
            "\u001b[1;31mE: \u001b[0mUnable to locate package chronium-chromedriver\u001b[0m\n"
          ]
        }
      ],
      "source": [
        "!pip install bs4 selenium\n",
        "!apt install chronium-chromedriver"
      ]
    },
    {
      "cell_type": "code",
      "source": [
        "import selenium\n",
        "from selenium import webdriver\n",
        "from selenium.webdriver.common.keys import Keys\n",
        "from selenium.webdriver.chromium.webdriver import ChromiumDriver\n",
        "from selenium.webdriver.common.by import By\n",
        "import csv\n",
        "import time\n",
        "import pandas as pd\n",
        "from selenium.webdriver.support.ui import WebDriverWait\n",
        "from selenium.webdriver.support import expected_conditions as EC\n",
        "from selenium.common.exceptions import TimeoutException"
      ],
      "metadata": {
        "id": "ESRWS5lqM1fJ"
      },
      "execution_count": null,
      "outputs": []
    },
    {
      "cell_type": "code",
      "source": [
        "options = webdriver.ChromeOptions()\n",
        "options.add_argument('--ignore-certificate-errors')\n",
        "options.add_argument('--incognito')\n",
        "options.add_argument('--headless')\n",
        "options.add_argument('no-sandbox')\n",
        "options.add_argument('--disable-dev-shm-usage')"
      ],
      "metadata": {
        "id": "F8F_eyUGM7Pj"
      },
      "execution_count": null,
      "outputs": []
    },
    {
      "cell_type": "code",
      "source": [
        "driver = webdriver.Chrome(options)"
      ],
      "metadata": {
        "id": "kqaD1YtJNCnv"
      },
      "execution_count": null,
      "outputs": []
    },
    {
      "cell_type": "code",
      "source": [
        "urlPath = 'https://www.youtube.com/@UnfoldDataScience/videos'\n",
        "driver.get(urlPath)"
      ],
      "metadata": {
        "id": "gJDg1zVsNEjg"
      },
      "execution_count": null,
      "outputs": []
    },
    {
      "cell_type": "code",
      "source": [
        "videos = driver.find_elements(By.CLASS_NAME, \"style-scope ytd-rich-item-renderer\")\n",
        "\n",
        "for video in videos:\n",
        "    titles = driver.find_elements(By.XPATH,'.//*[@id=\"video-title\"]')\n",
        "    views = driver.find_elements(By.XPATH,'.//*[@id=\"metadata-line\"]/span[1]')\n",
        "    dates = driver.find_elements(By.XPATH, './/*[@id=\"metadata-line\"]/span[2]')"
      ],
      "metadata": {
        "id": "oYwoY4B9NHSY"
      },
      "execution_count": null,
      "outputs": []
    },
    {
      "cell_type": "code",
      "source": [
        "likesData = []\n",
        "\n",
        "try:\n",
        "  for like in videos:\n",
        "    wait = WebDriverWait(driver,15)\n",
        "    descp = driver.find_element(By.XPATH, '//*[@id=\"video-title-link\"]')\n",
        "    driver.execute_script(\"arguments[0].click();\", descp)\n",
        "    path = '//*[@id=\"segmented-like-button\"]/ytd-toggle-button-renderer/yt-button-shape/button'\n",
        "    likecount = wait.until(EC.presence_of_element_located((By.XPATH, path)))\n",
        "    likes = likecount.text\n",
        "    likesData.append(likes)\n",
        "\n",
        "except:\n",
        "  likesData = \"\""
      ],
      "metadata": {
        "id": "87QOnEuBrcWb"
      },
      "execution_count": null,
      "outputs": []
    },
    {
      "cell_type": "code",
      "source": [
        "commentsData = []\n",
        "try:\n",
        "  wait = WebDriverWait(driver,15)\n",
        "  for video in videos:\n",
        "    descp = driver.find_element(By.XPATH, '//*[@id=\"video-title-link\"]')\n",
        "    driver.execute_script(\"arguments[0].click();\", descp)\n",
        "    path = \"//div[@id='title']//*[@id='count']//span[1]\"\n",
        "    commentsCount = wait.until(EC.presence_of_element_located((By.XPATH, path))).text\n",
        "    comments_count = driver.find_element(By.CSS_SELECTOR, \"#count button\").strip()\n",
        "    comments = commentsCount\n",
        "\n",
        "except:\n",
        "  commentsData = \"\""
      ],
      "metadata": {
        "id": "PY91ewRh9EWx"
      },
      "execution_count": null,
      "outputs": []
    },
    {
      "cell_type": "code",
      "source": [
        "titlesData = []\n",
        "for title in titles:\n",
        "    titlesData.append(title.text)\n",
        "\n",
        "viewsData = []\n",
        "for view in views:\n",
        "    viewsData.append(view.text)\n",
        "\n",
        "datesData = []\n",
        "for date in dates:\n",
        "    datesData.append(date.text)\n",
        "\n",
        "df = pd.DataFrame({'title': titlesData, 'views': viewsData, 'dates' : datesData, 'likes' : likes, 'comments' : comments})\n",
        "df.to_csv('Youtube.csv', index=False)"
      ],
      "metadata": {
        "id": "M0q0YEVaNJ4I"
      },
      "execution_count": null,
      "outputs": []
    },
    {
      "cell_type": "code",
      "source": [
        "YoutubeDF = pd.read_csv('Youtube.csv')"
      ],
      "metadata": {
        "id": "7h6T9-8K-RY1"
      },
      "execution_count": null,
      "outputs": []
    },
    {
      "cell_type": "markdown",
      "source": [
        "**Calculate the average views count per video for videos uploaded in the last 30\n",
        "days.**"
      ],
      "metadata": {
        "id": "ou7PGFpo9hXG"
      }
    },
    {
      "cell_type": "code",
      "source": [
        "from datetime import datetime, timedelta\n",
        "def AvergaeViews(df):\n",
        "  videos = YoutubeDF[YoutubeDF['dates'] >= '1 month ago']\n",
        "  YoutubeDF['NumericViews'] = videos['views'].replace(r'[Kk]', '', regex=True).astype(float) * 1000\n",
        "  average = YoutubeDF['NumericViews'].mean()\n",
        "  print(\"Average views count per video for videos uploaded in the last 30 days is\", average)\n",
        "\n",
        "AvergaeViews(YoutubeDF)"
      ],
      "metadata": {
        "colab": {
          "base_uri": "https://localhost:8080/"
        },
        "id": "4TYlz62zF1sz",
        "outputId": "89c78869-04e1-437f-de5e-ae86fb014e9e"
      },
      "execution_count": null,
      "outputs": [
        {
          "output_type": "stream",
          "name": "stdout",
          "text": [
            "Average views count per video for videos uploaded in the last 30 days is 165830.0\n"
          ]
        }
      ]
    },
    {
      "cell_type": "markdown",
      "source": [
        "**Identify the video with the highest likes-to-views ratio.**"
      ],
      "metadata": {
        "id": "vihhWFfJ97Bg"
      }
    },
    {
      "cell_type": "code",
      "source": [
        "def HighestRatio(df):\n",
        "  YoutubeDF['NumericViews'] = YoutubeDF['views'].replace(r'[Kk]', '', regex=True).astype(float) * 1000\n",
        "  YoutubeDF['likes_to_views_ratio'] = YoutubeDF['likes'] / YoutubeDF['NumericViews']\n",
        "  Highestratio = YoutubeDF.loc[YoutubeDF['likes_to_views_ratio'].idxmax()]\n",
        "  print(\"Video with the highest likes-to-views ratio is:\",Highestratio)\n",
        "HighestRatio(YoutubeDF)"
      ],
      "metadata": {
        "colab": {
          "base_uri": "https://localhost:8080/"
        },
        "id": "kDihFLbLMNle",
        "outputId": "b818bab4-ab3e-4328-8c39-548f1beb9af5"
      },
      "execution_count": null,
      "outputs": [
        {
          "output_type": "stream",
          "name": "stdout",
          "text": [
            "Video with the highest likes-to-views ratio is title                   6 Activation functions for deep learning | act...\n",
            "views                                                               1.2K \n",
            "dates                                                         3 weeks ago\n",
            "likes                                                                  54\n",
            "comments                                                               25\n",
            "NumericViews                                                       1200.0\n",
            "likes_to_views_ratio                                                0.045\n",
            "Name: 5, dtype: object\n"
          ]
        }
      ]
    },
    {
      "cell_type": "markdown",
      "source": [
        "**Find the correlation between the number of likes and the number of comments for the videos.**"
      ],
      "metadata": {
        "id": "ujAXor0G-BAD"
      }
    },
    {
      "cell_type": "code",
      "source": [
        "def corr(YoutubeDF):\n",
        "  correlation = YoutubeDF['likes'].corr(YoutubeDF['comments'])\n",
        "  print(\"Correlation between likes and comments:\", correlation)\n",
        "corr(YoutubeDF)"
      ],
      "metadata": {
        "colab": {
          "base_uri": "https://localhost:8080/"
        },
        "id": "KzJ-q4wRMnun",
        "outputId": "c5128ecc-c12a-48e1-9a9c-a7e2023a7cf3"
      },
      "execution_count": null,
      "outputs": [
        {
          "output_type": "stream",
          "name": "stdout",
          "text": [
            "Correlation between likes and comments: -0.209752324962911\n"
          ]
        }
      ]
    },
    {
      "cell_type": "code",
      "source": [
        "import matplotlib.pyplot as plt\n",
        "import seaborn as sns\n",
        "\n",
        "plt.figure(figsize=(6, 4))\n",
        "sns.scatterplot(x='likes', y='comments', data=YoutubeDF, alpha=0.7)\n",
        "sns.regplot(x='likes', y='comments', data=YoutubeDF, scatter=False, color='red')\n",
        "\n",
        "plt.title('Likes vs Comments Scatter Plot')\n",
        "plt.xlabel('Likes Count')\n",
        "plt.ylabel('Comments Count')\n",
        "plt.show()"
      ],
      "metadata": {
        "colab": {
          "base_uri": "https://localhost:8080/",
          "height": 410
        },
        "id": "VsAvopepOoiE",
        "outputId": "c97edce3-9f90-468e-850c-20ad3537e37b"
      },
      "execution_count": null,
      "outputs": [
        {
          "output_type": "display_data",
          "data": {
            "text/plain": [
              "<Figure size 600x400 with 1 Axes>"
            ],
            "image/png": "[encoded data removed]"
          },
          "metadata": {}
        }
      ]
    },
    {
      "cell_type": "markdown",
      "source": [
        "**Determine the most common day of the week for video uploads.**"
      ],
      "metadata": {
        "id": "WxlB1F02-GEA"
      }
    },
    {
      "cell_type": "code",
      "source": [
        "YoutubeDF['dates'] = pd.to_datetime(YoutubeDF['dates'])\n",
        "YoutubeDF['day_of_week'] = YoutubeDF['dates'].dt.dayofweek\n",
        "day_of_week_names = {0: 'Monday', 1: 'Tuesday', 2: 'Wednesday', 3: 'Thursday', 4: 'Friday', 5: 'Saturday', 6: 'Sunday'}\n",
        "YoutubeDF['day_of_week_name'] = YoutubeDF['day_of_week'].map(day_of_week_names)\n",
        "most_common_day = YoutubeDF['day_of_week_name'].mode()[0]\n",
        "print(\"The most common day of the week for video uploads is:\", most_common_day)"
      ],
      "metadata": {
        "id": "Y-YRA0xYMnO8"
      },
      "execution_count": null,
      "outputs": []
    },
    {
      "cell_type": "markdown",
      "source": [
        "**Detect any outliers in the views count.**"
      ],
      "metadata": {
        "id": "lmdRrLEk-Jkt"
      }
    },
    {
      "cell_type": "code",
      "source": [
        "import seaborn as sns\n",
        "import matplotlib.pyplot as plt\n",
        "\n",
        "def outliers(YoutubeDF):\n",
        "  YoutubeDF['NumericViews'] = YoutubeDF['views'].replace(r'[Kk]', '', regex=True).astype(float) * 1000\n",
        "\n",
        "  Q1 = YoutubeDF['NumericViews'].quantile(0.25)\n",
        "  Q3 = YoutubeDF['NumericViews'].quantile(0.75)\n",
        "\n",
        "  IQR = Q3 - Q1\n",
        "\n",
        "  lower_bound = Q1 - 1.5 * IQR\n",
        "  upper_bound = Q3 + 1.5 * IQR\n",
        "\n",
        "  outliers = YoutubeDF[(YoutubeDF['NumericViews'] < lower_bound) | (YoutubeDF['NumericViews'] > upper_bound)]\n",
        "\n",
        "  print(\"Outliers in views count:\")\n",
        "  print(outliers)\n",
        "\n",
        "  plt.figure(figsize=(6, 4))\n",
        "  sns.boxplot(x=YoutubeDF['NumericViews'])\n",
        "  plt.title('Views')\n",
        "  plt.xlabel('Views Count')\n",
        "  plt.show()\n",
        "outliers(YoutubeDF)"
      ],
      "metadata": {
        "colab": {
          "base_uri": "https://localhost:8080/",
          "height": 584
        },
        "id": "nTUehuRuPvP8",
        "outputId": "3dac65f5-34b5-4434-ff0b-6ce190f69195"
      },
      "execution_count": null,
      "outputs": [
        {
          "output_type": "stream",
          "name": "stdout",
          "text": [
            "Outliers in views count:\n",
            "                                                title  views         dates  \\\n",
            "7               Andrew Ng: Opportunities in AI - 2023  767K    3 weeks ago   \n",
            "9   p-values: What they are and how to interpret them  903K    3 years ago   \n",
            "18               5 Math Skills Every Programmer Needs  828K   8 months ago   \n",
            "\n",
            "    likes  comments  NumericViews  \n",
            "7      22        17      767000.0  \n",
            "9      43        15      903000.0  \n",
            "18     78        12      828000.0  \n"
          ]
        },
        {
          "output_type": "display_data",
          "data": {
            "text/plain": [
              "<Figure size 600x400 with 1 Axes>"
            ],
            "image/png": "[encoded data removed]"
          },
          "metadata": {}
        }
      ]
    },
    {
      "cell_type": "markdown",
      "source": [
        "# **BeautifulSoup**"
      ],
      "metadata": {
        "id": "m9pSDaW20zRn"
      }
    },
    {
      "cell_type": "code",
      "source": [
        "! python -m pip install BeautifulSoup4\n",
        "! python -m pip install requests"
      ],
      "metadata": {
        "colab": {
          "base_uri": "https://localhost:8080/"
        },
        "id": "ptmn5ar30y_8",
        "outputId": "5183b67d-bb73-47f4-d8cc-9006ad4b9131"
      },
      "execution_count": null,
      "outputs": [
        {
          "output_type": "stream",
          "name": "stdout",
          "text": [
            "Requirement already satisfied: BeautifulSoup4 in /usr/local/lib/python3.10/dist-packages (4.11.2)\n",
            "Requirement already satisfied: soupsieve>1.2 in /usr/local/lib/python3.10/dist-packages (from BeautifulSoup4) (2.5)\n",
            "Requirement already satisfied: requests in /usr/local/lib/python3.10/dist-packages (2.31.0)\n",
            "Requirement already satisfied: charset-normalizer<4,>=2 in /usr/local/lib/python3.10/dist-packages (from requests) (3.2.0)\n",
            "Requirement already satisfied: idna<4,>=2.5 in /usr/local/lib/python3.10/dist-packages (from requests) (3.4)\n",
            "Requirement already satisfied: urllib3<3,>=1.21.1 in /usr/local/lib/python3.10/dist-packages (from requests) (2.0.4)\n",
            "Requirement already satisfied: certifi>=2017.4.17 in /usr/local/lib/python3.10/dist-packages (from requests) (2023.7.22)\n"
          ]
        }
      ]
    },
    {
      "cell_type": "code",
      "source": [
        "import requests\n",
        "from bs4 import BeautifulSoup\n",
        "import csv\n",
        "import pandas as pd"
      ],
      "metadata": {
        "id": "yPMDs8EY06xO"
      },
      "execution_count": null,
      "outputs": []
    },
    {
      "cell_type": "code",
      "source": [
        "URL='https://www.imdb.com/search/title/?groups=top_1000&sort=user_rating,desc&count=100&start=%22+str(page)+%22&ref_=adv_nxt'\n",
        "response=requests.get(URL)"
      ],
      "metadata": {
        "id": "qa3SfZFN08mF"
      },
      "execution_count": null,
      "outputs": []
    },
    {
      "cell_type": "code",
      "source": [
        "soup=BeautifulSoup(response.content,'html.parser')"
      ],
      "metadata": {
        "id": "tUzpcFhg0_g8"
      },
      "execution_count": null,
      "outputs": []
    },
    {
      "cell_type": "code",
      "source": [
        "headers = {\"Accept-Language\": \"en-US,en;q=0.8\"}\n",
        "response = requests.get(URL,headers=headers)\n",
        "soup=BeautifulSoup(response.text,'html.parser')"
      ],
      "metadata": {
        "id": "BFcOStPp1Baf"
      },
      "execution_count": null,
      "outputs": []
    },
    {
      "cell_type": "code",
      "source": [
        "MovieTitle = []\n",
        "ReleaseYear = []\n",
        "IMDbRating = []\n",
        "Genre = []\n",
        "Director= []\n",
        "\n",
        "movies = soup.find_all('div', class_='lister-item mode-advanced')\n",
        "\n",
        "for movie in movies:\n",
        "  #Title\n",
        "  title = movie.find('h3', class_='lister-item-header').find('a').text.strip()\n",
        "\n",
        "  #Release Year\n",
        "  year = movie.find('span', class_='lister-item-year')\n",
        "  releaseyear = year.text.strip('()')\n",
        "\n",
        "  Release_Year = ''\n",
        "  for y in releaseyear:\n",
        "    if y.isnumeric():\n",
        "      Release_Year += y\n",
        "\n",
        "  if Release_Year.isnumeric():\n",
        "    Release_Year = int(Release_Year)\n",
        "  else:\n",
        "    Release_Year = None\n",
        "\n",
        "  #Genre\n",
        "  genre = movie.find('span', class_='genre').text.strip()\n",
        "\n",
        "  #Rating\n",
        "  rating= movie.find('div', class_='inline-block ratings-imdb-rating').text.strip()\n",
        "\n",
        "  #Director\n",
        "  director = movie.find('p', class_='').find('a').text\n",
        "\n",
        "\n",
        "  if 2013 <= Release_Year <= 2023:\n",
        "    MovieTitle.append(title)\n",
        "    Genre.append(genre)\n",
        "    ReleaseYear.append(Release_Year)\n",
        "    IMDbRating.append(rating)\n",
        "    Director.append(director)"
      ],
      "metadata": {
        "id": "0JvRjsLd1ETB"
      },
      "execution_count": null,
      "outputs": []
    },
    {
      "cell_type": "code",
      "source": [
        "df = pd.DataFrame({'Movie Titles':MovieTitle,'Release Year':ReleaseYear,'IMDb Rating': IMDbRating,'Directors': Director,'Genre': Genre})\n",
        "df.to_csv('IMDB.csv', index=False)"
      ],
      "metadata": {
        "id": "L6mndVXa1H0c"
      },
      "execution_count": null,
      "outputs": []
    },
    {
      "cell_type": "code",
      "source": [
        "IMDB = pd.read_csv('IMDB.csv')"
      ],
      "metadata": {
        "id": "R1ccO7rI1Kly"
      },
      "execution_count": null,
      "outputs": []
    },
    {
      "cell_type": "markdown",
      "source": [
        "**Average IMDb rating for the top-rated movies.**"
      ],
      "metadata": {
        "id": "q0ZNaAKG1ww-"
      }
    },
    {
      "cell_type": "code",
      "source": [
        "def AverageIMDBrating(df):\n",
        "  average = df['IMDb Rating'].mean()\n",
        "  print('Average IMDb rating is', average)\n",
        "AverageIMDBrating(IMDB)"
      ],
      "metadata": {
        "colab": {
          "base_uri": "https://localhost:8080/"
        },
        "id": "57utv5Jv1Pn7",
        "outputId": "0c1695fd-ce6c-4c37-8658-88420e7738b1"
      },
      "execution_count": null,
      "outputs": [
        {
          "output_type": "stream",
          "name": "stdout",
          "text": [
            "Average IMDb rating is 8.513043478260872\n"
          ]
        }
      ]
    },
    {
      "cell_type": "markdown",
      "source": [
        "**The most common genre among the top-rated movies.**"
      ],
      "metadata": {
        "id": "cJrpLzmv1yHC"
      }
    },
    {
      "cell_type": "code",
      "source": [
        "def CommonGenre(df):\n",
        "  commonGenre = df['Genre'].mode()[0]\n",
        "  print(\"The most common genre among the top-rated movies is\", commonGenre)\n",
        "CommonGenre(IMDB)"
      ],
      "metadata": {
        "colab": {
          "base_uri": "https://localhost:8080/"
        },
        "id": "Gg5QBbg41TvC",
        "outputId": "3f3455a5-7697-40c6-8e25-de57ce3fb104"
      },
      "execution_count": null,
      "outputs": [
        {
          "output_type": "stream",
          "name": "stdout",
          "text": [
            "The most common genre among the top-rated movies is Action, Drama\n"
          ]
        }
      ]
    },
    {
      "cell_type": "markdown",
      "source": [
        "**Identify the director with the highest average IMDb rating.**"
      ],
      "metadata": {
        "id": "4-grUtic1rEz"
      }
    },
    {
      "cell_type": "code",
      "source": [
        "def HighestAverageRating(df):\n",
        "  AverageRating = df.groupby('Directors')['IMDb Rating'].mean()\n",
        "  Rating = AverageRating.max()\n",
        "  print(\"Director with the highest average IMDb rating is\", Rating)\n",
        "HighestAverageRating(IMDB)"
      ],
      "metadata": {
        "colab": {
          "base_uri": "https://localhost:8080/"
        },
        "id": "z8HhWm1Y1cQP",
        "outputId": "a3842a97-ddd2-4a85-f78a-d0b0e91eea55"
      },
      "execution_count": null,
      "outputs": [
        {
          "output_type": "stream",
          "name": "stdout",
          "text": [
            "Director with the highest average IMDb rating is 8.8\n"
          ]
        }
      ]
    }
  ]
}